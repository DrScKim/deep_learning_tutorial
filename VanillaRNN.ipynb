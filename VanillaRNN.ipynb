{
 "cells": [
  {
   "cell_type": "code",
   "execution_count": 32,
   "metadata": {},
   "outputs": [],
   "source": [
    "import numpy as np\n",
    "import matplotlib.pyplot as plt\n",
    "%matplotlib inline\n",
    "\n",
    "BIN_DIM = 8\n",
    "INPUT_DIM = 2\n",
    "HIDDEN_DIM = 16\n",
    "OUTPUT_DIM = 1\n",
    "\n",
    "ALPHA = 0.1\n",
    "ITER_NUM = 10000\n",
    "LOG_ITER = ITER_NUM // 10\n",
    "PLOT_ITER = ITER_NUM // 200"
   ]
  },
  {
   "cell_type": "code",
   "execution_count": 15,
   "metadata": {},
   "outputs": [],
   "source": [
    "largest = pow(2, BIN_DIM)\n",
    "decimal = np.array([range(largest)]).astype(np.uint8).T\n",
    "binary = np.unpackbits(decimal, axis=1)"
   ]
  },
  {
   "cell_type": "markdown",
   "metadata": {},
   "source": [
    "Data Generation\n",
    "Generate the binary array less than 256."
   ]
  },
  {
   "cell_type": "code",
   "execution_count": 18,
   "metadata": {},
   "outputs": [
    {
     "data": {
      "text/plain": [
       "array([[0, 0, 0, ..., 0, 0, 0],\n",
       "       [0, 0, 0, ..., 0, 0, 1],\n",
       "       [0, 0, 0, ..., 0, 1, 0],\n",
       "       ...,\n",
       "       [1, 1, 1, ..., 1, 0, 1],\n",
       "       [1, 1, 1, ..., 1, 1, 0],\n",
       "       [1, 1, 1, ..., 1, 1, 1]], dtype=uint8)"
      ]
     },
     "execution_count": 18,
     "metadata": {},
     "output_type": "execute_result"
    }
   ],
   "source": [
    "binary"
   ]
  },
  {
   "cell_type": "code",
   "execution_count": 19,
   "metadata": {},
   "outputs": [],
   "source": [
    "w0 = np.random.normal(0, 1, [INPUT_DIM, HIDDEN_DIM])\n",
    "w1 = np.random.normal(0, 1, [HIDDEN_DIM, OUTPUT_DIM])\n",
    "wh = np.random.normal(0, 2, [HIDDEN_DIM, HIDDEN_DIM])"
   ]
  },
  {
   "cell_type": "code",
   "execution_count": 25,
   "metadata": {},
   "outputs": [],
   "source": [
    "errs = list()\n",
    "accs = list()\n",
    "\n",
    "error = 0\n",
    "accuracy = 0"
   ]
  },
  {
   "cell_type": "code",
   "execution_count": 26,
   "metadata": {},
   "outputs": [],
   "source": [
    "def sigmoid(x):\n",
    "    return 1 / (1 + np.exp(-x))\n",
    "\n",
    "def deriv_sigmoid(out):\n",
    "    return out * (1 - out)\n",
    "\n",
    "def bin2dec(b):\n",
    "    out = 0\n",
    "    for i, x in enumerate(b[::-1]):\n",
    "        out += x * pow(2, i)\n",
    "    \n",
    "    return out"
   ]
  },
  {
   "cell_type": "code",
   "execution_count": 29,
   "metadata": {},
   "outputs": [
    {
     "data": {
      "text/plain": [
       "0.5"
      ]
     },
     "execution_count": 29,
     "metadata": {},
     "output_type": "execute_result"
    }
   ],
   "source": [
    "sigmoid(0)"
   ]
  },
  {
   "cell_type": "code",
   "execution_count": 30,
   "metadata": {
    "scrolled": true
   },
   "outputs": [
    {
     "name": "stdout",
     "output_type": "stream",
     "text": [
      "Iter 0\n",
      "Error : [3.03233592]\n",
      "Pred : [1 1 1 1 1 1 1 1]\n",
      "True : [1 0 0 1 1 0 1 1]\n",
      "93 + 62 = 255\n",
      "----------\n",
      "Iter 1000\n",
      "Error : [3.91286076]\n",
      "Pred : [0 0 0 0 0 0 0 1]\n",
      "True : [1 0 0 0 1 0 0 0]\n",
      "55 + 81 = 1\n",
      "----------\n",
      "Iter 2000\n",
      "Error : [3.94312774]\n",
      "Pred : [0 0 1 0 1 0 0 1]\n",
      "True : [1 0 0 0 0 0 0 1]\n",
      "106 + 23 = 41\n",
      "----------\n",
      "Iter 3000\n",
      "Error : [3.90789404]\n",
      "Pred : [0 1 0 0 1 1 0 1]\n",
      "True : [1 0 1 0 0 1 0 1]\n",
      "113 + 52 = 77\n",
      "----------\n",
      "Iter 4000\n",
      "Error : [2.87663079]\n",
      "Pred : [0 1 1 1 0 1 1 0]\n",
      "True : [0 1 0 0 0 1 1 0]\n",
      "60 + 10 = 118\n",
      "----------\n",
      "Iter 5000\n",
      "Error : [2.4880094]\n",
      "Pred : [0 1 0 0 0 1 0 1]\n",
      "True : [0 1 1 0 0 1 0 1]\n",
      "42 + 59 = 69\n",
      "----------\n",
      "Iter 6000\n",
      "Error : [1.72190217]\n",
      "Pred : [0 1 1 1 1 1 1 1]\n",
      "True : [0 1 1 1 1 1 1 1]\n",
      "102 + 25 = 127\n",
      "----------\n",
      "Iter 7000\n",
      "Error : [1.52563167]\n",
      "Pred : [1 1 0 0 1 0 0 1]\n",
      "True : [1 0 0 0 1 0 0 1]\n",
      "104 + 33 = 201\n",
      "----------\n",
      "Iter 8000\n",
      "Error : [2.85800948]\n",
      "Pred : [1 0 0 0 0 0 0 0]\n",
      "True : [1 0 1 0 0 0 0 0]\n",
      "41 + 119 = 128\n",
      "----------\n",
      "Iter 9000\n",
      "Error : [0.49963029]\n",
      "Pred : [1 0 0 1 1 1 0 0]\n",
      "True : [1 0 0 1 1 1 0 0]\n",
      "68 + 88 = 156\n",
      "----------\n",
      "Iter 10000\n",
      "Error : [2.09692732]\n",
      "Pred : [1 0 0 1 0 0 0 0]\n",
      "True : [1 0 0 1 0 1 1 0]\n",
      "71 + 79 = 144\n",
      "----------\n"
     ]
    }
   ],
   "source": [
    "for i in range(ITER_NUM + 1):\n",
    "    # a + b = c\n",
    "    a_dec = np.random.randint(largest / 2)\n",
    "    b_dec = np.random.randint(largest / 2)\n",
    "    c_dec = a_dec + b_dec\n",
    "    \n",
    "    a_bin = binary[a_dec]\n",
    "    b_bin = binary[b_dec]\n",
    "    c_bin = binary[c_dec]\n",
    "    \n",
    "    pred = np.zeros_like(c_bin)\n",
    "    \n",
    "    overall_err = 0 # total error in the whole calculation process.\n",
    "    \n",
    "    output_deltas = list()\n",
    "    hidden_values = list()\n",
    "    hidden_values.append(np.zeros(HIDDEN_DIM))\n",
    "    \n",
    "    future_delta = np.zeros(HIDDEN_DIM)\n",
    "    \n",
    "    # forward propagation\n",
    "    for pos in range(BIN_DIM)[::-1]:\n",
    "        X = np.array([[a_bin[pos], b_bin[pos]]]) # shape=(1, 2)\n",
    "        Y = np.array([[c_bin[pos]]]) # shape=(1, 1)\n",
    "        \n",
    "        hidden = sigmoid(np.dot(X, w0) + np.dot(hidden_values[-1], wh))\n",
    "        output = sigmoid(np.dot(hidden, w1))\n",
    "        \n",
    "        pred[pos] = np.round(output[0][0])\n",
    "        \n",
    "        # squared mean error\n",
    "        output_err = Y - output\n",
    "        output_deltas.append(output_err * deriv_sigmoid(output))\n",
    "        hidden_values.append(hidden)\n",
    "        \n",
    "        overall_err += np.abs(output_err[0])\n",
    "    \n",
    "    # backpropagation through time\n",
    "    for pos in range(BIN_DIM):\n",
    "        X = np.array([[a_bin[pos], b_bin[pos]]])\n",
    "        \n",
    "        hidden = hidden_values[-(pos + 1)]\n",
    "        prev_hidden = hidden_values[-(pos + 2)]\n",
    "        \n",
    "        output_delta = output_deltas[-(pos + 1)]\n",
    "        hidden_delta = (np.dot(future_delta, wh.T) + np.dot(output_delta, w1.T)) * deriv_sigmoid(hidden)\n",
    "        \n",
    "        d1 += np.dot(np.atleast_2d(hidden).T, output_delta)\n",
    "        dh += np.dot(np.atleast_2d(prev_hidden).T, hidden_delta)\n",
    "        d0 += np.dot(X.T, hidden_delta)\n",
    "\n",
    "        future_delta = hidden_delta \n",
    "    \n",
    "    w1 += ALPHA * d1\n",
    "    w0 += ALPHA * d0\n",
    "    wh += ALPHA * dh\n",
    "    \n",
    "    d1 *= 0\n",
    "    d0 *= 0\n",
    "    dh *= 0\n",
    "    \n",
    "    error += overall_err\n",
    "    if (bin2dec(pred) == c_dec):\n",
    "        accuracy += 1\n",
    "        \n",
    "    if (i % PLOT_ITER == 0):\n",
    "        errs.append(error / PLOT_ITER)\n",
    "        accs.append(accuracy / PLOT_ITER)\n",
    "        \n",
    "        error = 0\n",
    "        accuracy = 0\n",
    "    \n",
    "    if (i % LOG_ITER == 0):\n",
    "        print('Iter', i)\n",
    "        print(\"Error :\", overall_err)\n",
    "        print(\"Pred :\", pred)\n",
    "        print(\"True :\", c_bin)\n",
    "        print(a_dec, \"+\", b_bdec, \"=\", bin2dec(pred))\n",
    "        print('----------')"
   ]
  },
  {
   "cell_type": "code",
   "execution_count": 33,
   "metadata": {},
   "outputs": [
    {
     "data": {
      "text/plain": [
       "<matplotlib.legend.Legend at 0x7f8362357c88>"
      ]
     },
     "execution_count": 33,
     "metadata": {},
     "output_type": "execute_result"
    },
    {
     "data": {
      "image/png": "[encoded data removed]",
      "text/plain": [
       "<Figure size 432x288 with 1 Axes>"
      ]
     },
     "metadata": {
      "needs_background": "light"
     },
     "output_type": "display_data"
    }
   ],
   "source": [
    "plt.plot(errs, label='error')\n",
    "plt.plot(accs, label='accuracy')\n",
    "plt.legend()"
   ]
  }
 ],
 "metadata": {
  "kernelspec": {
   "display_name": "Python 3",
   "language": "python",
   "name": "python3"
  },
  "language_info": {
   "codemirror_mode": {
    "name": "ipython",
    "version": 3
   },
   "file_extension": ".py",
   "mimetype": "text/x-python",
   "name": "python",
   "nbconvert_exporter": "python",
   "pygments_lexer": "ipython3",
   "version": "3.6.8"
  }
 },
 "nbformat": 4,
 "nbformat_minor": 2
}
