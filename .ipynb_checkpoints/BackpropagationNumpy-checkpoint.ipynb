{
 "cells": [
  {
   "cell_type": "code",
   "execution_count": 13,
   "metadata": {
    "scrolled": true
   },
   "outputs": [
    {
     "name": "stdout",
     "output_type": "stream",
     "text": [
      "[[6.93537305e-310 1.70224666e-316 8.39037136e-311 3.30276079e-261\n",
      "  2.11653531e+214 2.16449731e-256 2.75651968e+214 3.38460660e+125\n",
      "  2.36257199e+232 6.18431133e-309]\n",
      " [4.87882608e+199 3.99550968e+252 2.71572050e+243 3.38027053e+180\n",
      "  5.04342478e+180 2.07225716e+243 1.16497569e-310 2.48721654e-075\n",
      "  1.09166737e-312 1.82960175e-307]\n",
      " [1.33360322e+241 4.15274576e-310 2.18550251e+084 1.77070602e-312\n",
      "  3.90657767e+024 9.08367229e+223 5.66176997e-307 1.33360334e+241\n",
      "  1.05632950e-310 5.22150394e-215]\n",
      " [4.33848671e-313 2.88067937e+214 1.12759867e-065 4.02977523e-270\n",
      "  7.87691239e-251 6.39588688e-270 6.63264168e-270 5.68606274e-270\n",
      "  1.61280822e-231 8.62073944e-314]]\n",
      "0.5\n"
     ]
    }
   ],
   "source": [
    "import numpy as np\n",
    "\n",
    "\n",
    "\n",
    "inputDim = 10\n",
    "n_hidden_layer = 4\n",
    "n_weight_nodes = 10\n",
    "\n",
    "weight_matrix = np.ndarray(shape=(n_hidden_layer, n_weight_nodes))\n",
    "\n",
    "def activation():\n",
    "    pass\n",
    "\n",
    "def sigmoid(x, derivative=False):\n",
    "    sig = 1. / ( 1. + np.exp(-x))\n",
    "    if derivative:\n",
    "        return sig * (1. -sig)\n",
    "    return sig\n",
    "    \n",
    "\n",
    "print(weight_matrix)\n",
    "print(sigmoid(0,False))"
   ]
  },
  {
   "cell_type": "code",
   "execution_count": null,
   "metadata": {},
   "outputs": [],
   "source": []
  },
  {
   "cell_type": "code",
   "execution_count": null,
   "metadata": {},
   "outputs": [],
   "source": []
  },
  {
   "cell_type": "code",
   "execution_count": null,
   "metadata": {},
   "outputs": [],
   "source": []
  }
 ],
 "metadata": {
  "kernelspec": {
   "display_name": "Python 3",
   "language": "python",
   "name": "python3"
  },
  "language_info": {
   "codemirror_mode": {
    "name": "ipython",
    "version": 3
   },
   "file_extension": ".py",
   "mimetype": "text/x-python",
   "name": "python",
   "nbconvert_exporter": "python",
   "pygments_lexer": "ipython3",
   "version": "3.6.8"
  }
 },
 "nbformat": 4,
 "nbformat_minor": 2
}
